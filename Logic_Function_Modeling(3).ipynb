{
  "cells": [
    {
      "cell_type": "code",
      "execution_count": 5,
      "metadata": {
        "id": "_maEvfysa4kQ"
      },
      "outputs": [],
      "source": [
        "from keras.models import Sequential\n",
        "from keras.layers import *\n",
        "import numpy as np\n",
        "\n",
        "def start(neuron1, neuron2):\n",
        "    m = Sequential() \n",
        "    m.add(Dense(neuron1,input_dim=2, activation='tanh'))\n",
        "    m.add(Dense(neuron2,input_dim=2, activation='tanh'))\n",
        "    m.add(Dense(1,activation='sigmoid'))\n",
        "\n",
        "    X = np.array([[0,0],[0,1],[1,0],[1,1]],'float32')\n",
        "    Y = np.array([[0],[1],[1],[0]],'float32')\n",
        "    m.compile(optimizer='adam',loss='binary_crossentropy')\n",
        "\n",
        "    m.fit(X,Y,batch_size=1,epochs=200,verbose=0)\n",
        "    print(m.predict(X))\n",
        "\n",
        "    print('OR')\n",
        "    X1 = np.array([[0,0],[0,1],[1,0],[1,1]],'float32')\n",
        "    Y1 = np.array([[0],[1],[1],[1]],'float32')\n",
        "\n",
        "    m.fit(X1,Y1,batch_size=1,epochs=200,verbose=0)\n",
        "    print(m.predict(X1))\n",
        "\n",
        "    X2 = np.array([[0,0],[0,1],[1,0],[1,1]],'float32')\n",
        "    Y2 = np.array([[1],[0],[0],[0]],'float32')\n",
        "\n",
        "    print('NOR')\n",
        "    m.fit(X2,Y2,batch_size=1,epochs=200,verbose=0)\n",
        "    print(m.predict(X2))\n",
        "\n",
        "    X3 = np.array([[0,0],[0,1],[1,0],[1,1]],'float32')\n",
        "    Y3 = np.array([[0],[0],[0],[1]],'float32')\n",
        "\n",
        "    print('AND')\n",
        "    m.fit(X3,Y3,batch_size=1,epochs=200,verbose=0)\n",
        "    print(m.predict(X3))\n",
        "\n",
        "    X4 = np.array([[0,0],[0,1],[1,0],[1,1]],'float32')\n",
        "    Y4 = np.array([[1],[1],[1],[0]],'float32')\n",
        "\n",
        "    print('NAND')\n",
        "    m.fit(X4,Y4,batch_size=1,epochs=200,verbose=0)\n",
        "    print(m.predict(X4))"
      ]
    },
    {
      "cell_type": "code",
      "execution_count": 8,
      "metadata": {
        "colab": {
          "base_uri": "https://localhost:8080/"
        },
        "id": "Lsz4D05WlF3R",
        "outputId": "5283f0c1-ce2a-449e-a822-8959cf95487c"
      },
      "outputs": [
        {
          "output_type": "stream",
          "name": "stdout",
          "text": [
            "Architecture 1\n",
            "1/1 [==============================] - 0s 43ms/step\n",
            "[[0.3766737 ]\n",
            " [0.5401601 ]\n",
            " [0.46496212]\n",
            " [0.49634472]]\n",
            "OR\n",
            "1/1 [==============================] - 0s 15ms/step\n",
            "[[0.16787887]\n",
            " [0.942744  ]\n",
            " [0.9206551 ]\n",
            " [0.9876577 ]]\n",
            "NOR\n",
            "1/1 [==============================] - 0s 15ms/step\n",
            "[[0.50465596]\n",
            " [0.10343917]\n",
            " [0.16812946]\n",
            " [0.04414391]]\n",
            "AND\n",
            "1/1 [==============================] - 0s 15ms/step\n",
            "[[0.11629706]\n",
            " [0.21446425]\n",
            " [0.32670376]\n",
            " [0.4929117 ]]\n",
            "NAND\n",
            "1/1 [==============================] - 0s 15ms/step\n",
            "[[0.7664462]\n",
            " [0.7037525]\n",
            " [0.7267554]\n",
            " [0.6043175]]\n"
          ]
        }
      ],
      "source": [
        "print(\"Architecture 1\")\n",
        "start(6,9)"
      ]
    },
    {
      "cell_type": "code",
      "execution_count": 9,
      "metadata": {
        "colab": {
          "base_uri": "https://localhost:8080/"
        },
        "id": "lbzNGTzAlF3S",
        "outputId": "a27eabc4-f483-4c19-8049-17be06c76f8f"
      },
      "outputs": [
        {
          "output_type": "stream",
          "name": "stdout",
          "text": [
            "Architecture 2\n",
            "1/1 [==============================] - 0s 43ms/step\n",
            "[[0.48757228]\n",
            " [0.46992856]\n",
            " [0.5201679 ]\n",
            " [0.48050293]]\n",
            "OR\n",
            "1/1 [==============================] - 0s 15ms/step\n",
            "[[0.18908161]\n",
            " [0.91841245]\n",
            " [0.9403618 ]\n",
            " [0.9692724 ]]\n",
            "NOR\n",
            "1/1 [==============================] - 0s 17ms/step\n",
            "[[0.5626125 ]\n",
            " [0.14388947]\n",
            " [0.18806165]\n",
            " [0.08444736]]\n",
            "AND\n",
            "1/1 [==============================] - 0s 15ms/step\n",
            "[[0.17628941]\n",
            " [0.2402638 ]\n",
            " [0.36443377]\n",
            " [0.3937443 ]]\n",
            "NAND\n",
            "1/1 [==============================] - 0s 14ms/step\n",
            "[[0.6822278 ]\n",
            " [0.6820456 ]\n",
            " [0.71469396]\n",
            " [0.7005295 ]]\n"
          ]
        }
      ],
      "source": [
        "print(\"Architecture 2\")\n",
        "start(3,8)"
      ]
    },
    {
      "cell_type": "code",
      "execution_count": null,
      "metadata": {
        "id": "t0e9oEwjlF3S"
      },
      "outputs": [],
      "source": []
    }
  ],
  "metadata": {
    "colab": {
      "provenance": []
    },
    "kernelspec": {
      "display_name": "Python 3 (ipykernel)",
      "language": "python",
      "name": "python3"
    },
    "language_info": {
      "codemirror_mode": {
        "name": "ipython",
        "version": 3
      },
      "file_extension": ".py",
      "mimetype": "text/x-python",
      "name": "python",
      "nbconvert_exporter": "python",
      "pygments_lexer": "ipython3",
      "version": "3.9.7"
    }
  },
  "nbformat": 4,
  "nbformat_minor": 0
}